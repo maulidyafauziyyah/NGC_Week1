{
 "cells": [
  {
   "cell_type": "markdown",
   "metadata": {},
   "source": [
    "# Non Graded Challenge 1"
   ]
  },
  {
   "cell_type": "markdown",
   "metadata": {},
   "source": [
    "## Task 1"
   ]
  },
  {
   "cell_type": "code",
   "execution_count": 1,
   "metadata": {},
   "outputs": [
    {
     "name": "stdout",
     "output_type": "stream",
     "text": [
      "12\n"
     ]
    }
   ],
   "source": [
    "customer_id = [\n",
    "    'B818', 'A461', 'A092', 'A082', 'B341', 'A005', 'A092', \n",
    "    'A461','B219', 'B904', 'A901', 'A083', 'B904', 'A092', \n",
    "    'B341', 'B821','B341', 'B821', 'B904', 'B818', 'A901', \n",
    "    'A083', 'B818', 'A082','B219', 'B219', 'A083', 'A901', \n",
    "    'A082', 'B341', 'B341', 'A083','A082', 'B219', 'B439', \n",
    "    'A461', 'A005', 'A901', 'B341', 'A082','A083', 'A461', \n",
    "    'A083', 'A901', 'A461', 'A083', 'A082', 'A083','B341', \n",
    "    'A901', 'A082', 'A461', 'B219', 'A083', 'B818', 'B821',\n",
    "    'A092', 'B341', 'A461', 'A092', 'A083', 'B821', 'A092'\n",
    "    ]\n",
    " # How many unique customer_id from above list?\n",
    "\n",
    "unique_customer_id = set(customer_id)  # variable \"unique_customer_id\" dibuat untuk membuang data yang memiliki value yang sama dalam list diatas\n",
    "jumlahUnique_customer_id = len(unique_customer_id)  # variable \"jumlahUnique_customer_id\" dibuat untuk menghitung jumlah unique cust id dalam list diatas\n",
    "print(jumlahUnique_customer_id)  # print jumlah unique customer id\n",
    " "
   ]
  },
  {
   "cell_type": "markdown",
   "metadata": {},
   "source": [
    "# Task 2"
   ]
  },
  {
   "cell_type": "code",
   "execution_count": 2,
   "metadata": {},
   "outputs": [
    {
     "name": "stdout",
     "output_type": "stream",
     "text": [
      "# a\n",
      "16\n",
      "# b\n",
      "[36, 49, 64]\n",
      "# c\n",
      "[100, 81, 64, 49, 36, 25, 16, 9, 4, 1]\n"
     ]
    }
   ],
   "source": [
    "Data = [1, 4, 9, 16, 25, 36, 49,  64, 81, 100]\n",
    "\n",
    "# a\n",
    "print('# a')\n",
    "print(Data[3])  # print urutan angka ke 3 dalam list 'Data'\n",
    "\n",
    "# b\n",
    "print('# b')\n",
    "print(Data[5:8])  # print urutan ke 5 sampai urutan ke 8 dalam list 'Data'\n",
    "\n",
    "# c\n",
    "print('# c')\n",
    "Data.reverse()   # mereverse variable dari list 'Data'\n",
    "print(Data)\n",
    "\n",
    "\n"
   ]
  },
  {
   "cell_type": "markdown",
   "metadata": {},
   "source": [
    "# Task 3"
   ]
  },
  {
   "cell_type": "code",
   "execution_count": 3,
   "metadata": {},
   "outputs": [
    {
     "name": "stdout",
     "output_type": "stream",
     "text": [
      "# a\n",
      "['Nanggroe Aceh Darussalam', 'Sumatera Selatan', 'Kalimantan Barat', 'Jawa Timur', 'Sulawesi Selatan', 'Maluku']\n",
      "# b\n",
      "{'Nanggroe Aceh Darussalam': 'Aceh', 'Sumatera Selatan': 'Palembang', 'Kalimantan Barat': 'Pontianak', 'Jawa Timur': 'Surabaya', 'Sulawesi Selatan': 'Makassar', 'Maluku': 'Ambon'}\n"
     ]
    }
   ],
   "source": [
    "provinsi = {\n",
    "    'Nanggroe Aceh Darussalam': 'Aceh',\n",
    "    'Sumatera Selatan': 'Palembang','Kalimantan Barat': 'Pontianak',\n",
    "    'Jawa Timur': 'Madiun','Sulawesi Selatan': 'Makassar','Maluku': 'Ambon'\n",
    "    }\n",
    "\n",
    "# What python command can be use to:\n",
    "# a.Get list of keys available in dictionary\n",
    "# b.Change 'Jawa Timur' value from 'Madiun'  to 'Surabaya'\n",
    "\n",
    "# a\n",
    "print('# a')\n",
    "keysProvinsi = list(provinsi.keys())  \n",
    "print(keysProvinsi)\n",
    "\n",
    "# b\n",
    "print('# b')\n",
    "provinsi['Jawa Timur'] = 'Surabaya'\n",
    "print(provinsi)\n",
    "\n",
    "\n"
   ]
  }
 ],
 "metadata": {
  "kernelspec": {
   "display_name": "Python 3",
   "language": "python",
   "name": "python3"
  },
  "language_info": {
   "codemirror_mode": {
    "name": "ipython",
    "version": 3
   },
   "file_extension": ".py",
   "mimetype": "text/x-python",
   "name": "python",
   "nbconvert_exporter": "python",
   "pygments_lexer": "ipython3",
   "version": "3.9.6"
  }
 },
 "nbformat": 4,
 "nbformat_minor": 2
}
